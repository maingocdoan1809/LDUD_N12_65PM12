{
 "cells": [
  {
   "cell_type": "code",
   "execution_count": 1,
   "metadata": {},
   "outputs": [],
   "source": [
    "import pandas as pd\n",
    "import matplotlib.pyplot as plt\n"
   ]
  },
  {
   "cell_type": "markdown",
   "metadata": {},
   "source": [
    "## Cau a"
   ]
  },
  {
   "cell_type": "code",
   "execution_count": 2,
   "metadata": {},
   "outputs": [],
   "source": [
    "df_san_pham = pd.read_excel(\"DuLieuThucHanh2_V1.xlsx\", sheet_name=\"San Pham\")\n",
    "df_nhan_vien = pd.read_excel(\"DuLieuThucHanh2_V1.xlsx\", sheet_name=\"Nhan Vien\")\n",
    "df_hoa_don = pd.read_excel(\"DuLieuThucHanh2_V1.xlsx\", sheet_name=\"Hoa Don\")\n",
    "df_thong_tin = pd.read_excel(\"DuLieuThucHanh2_V1.xlsx\", sheet_name=\"Thong Tin Hoa Don\")\n"
   ]
  },

  {
   "cell_type": "markdown",
   "metadata": {},
   "source": [
    "## Cau b"
   ]
  },
  {
   "cell_type": "code",
   "execution_count": 3,
   "metadata": {},
   "outputs": [
    {
     "name": "stdout",
     "output_type": "stream",
     "text": [
      "    ID San Pham                          Ten  So Luong Da Ban\n",
      "0             1                  Máy hút bụi             13.0\n",
      "1             2           Điện thoại di động              5.0\n",
      "2             3                  Laptop Dell             11.0\n",
      "3             4           Tai nghe Bluetooth              0.0\n",
      "4             5                    Quạt trần              0.0\n",
      "5             6                Máy tính bảng              8.0\n",
      "6             7                    Tivi OLED              2.0\n",
      "7             8                 Máy ảnh DSLR             19.0\n",
      "8             9              Bàn là hơi nước              5.0\n",
      "9            10            Máy lọc không khí             43.0\n",
      "10           11               Ổ cứng SSD 1TB              0.0\n",
      "11           12                       Bếp từ              8.0\n",
      "12           13               Máy pha cà phê             25.0\n",
      "13           14             Dàn âm thanh 5.1              7.0\n",
      "14           15                  Máy sấy tóc              3.0\n",
      "15           16                Loa Bluetooth              5.0\n",
      "16           17              Máy làm bánh mì             10.0\n",
      "17           18         Bình nước thông minh             20.0\n",
      "18           19          Máy massage cầm tay              0.0\n",
      "19           20        Ổ cắm điện thông minh              9.0\n",
      "20           21          Máy làm kem tự đông              0.0\n",
      "21           22            Dụng cụ làm sushi              9.0\n",
      "22           23               Máy xay cà phê              2.0\n",
      "23           24            Bếp từ hồng ngoại              3.0\n",
      "24           25     Đèn trang trí thông minh             12.0\n",
      "25           26           Máy phát sóng WiFi             19.0\n",
      "26           27               Máy làm đá bào              7.0\n",
      "27           28            Tai nghe chống ồn              5.0\n",
      "28           29                 Máy sưởi dầu             10.0\n",
      "29           30        Dụng cụ làm bánh ngọt             11.0\n",
      "30           31              Bàn là hơi nước             17.0\n",
      "31           32               Quạt điện đứng              3.0\n",
      "32           33      Ổ cắm thông minh loại 2              5.0\n",
      "33           34                   Máy tạo ẩm              7.0\n",
      "34           35           Tai nghe không dây              9.0\n",
      "35           36              Nồi cơm điện tử             26.0\n",
      "36           37                      Loa kéo              3.0\n",
      "37           38     Camera an ninh không dây             14.0\n",
      "38           39      Bàn làm việc thông minh              0.0\n",
      "39           40             Đèn led trần nhà              5.0\n",
      "40           41            Máy lọc không khí              0.0\n",
      "41           42               Bếp hồng ngoại              1.0\n",
      "42           43                  Máy sấy tóc              7.0\n",
      "43           44               Máy đánh trứng             13.0\n",
      "44           45           Đèn bàn thông minh             15.0\n",
      "45           46          Bình nước nóng lạnh              7.0\n",
      "46           47           Điều hòa không khí             23.0\n",
      "47           48       Máy hút bụi thông minh              5.0\n",
      "48           49       Máy pha cà phê tự động              8.0\n",
      "49           50           Dụng cụ trang điểm             14.0\n",
      "50           51   Máy đo nhiệt độ hồng ngoại              0.0\n",
      "51           52              Bình phun sương              0.0\n",
      "52           53              Máy làm sữa hạt              2.0\n",
      "53           54            Bàn làm việc đứng              8.0\n",
      "54           55            Ổ cắm điện loại 3              6.0\n",
      "55           56           Tai nghe Bluetooth             10.0\n",
      "56           57    Dụng cụ làm bánh bông lan             17.0\n",
      "57           58          Máy làm kem tại nhà             22.0\n",
      "58           59              Máy xay sinh tố              0.0\n",
      "59           60  Bàn làm việc thông minh mới              5.0\n",
      "========San Pham Ban Chay Nhat============\n",
      "   ID San Pham                Ten  So Luong Da Ban\n",
      "9           10  Máy lọc không khí             43.0\n"
     ]
    }
   ],
   "source": [
    "df_ban_hang = df_san_pham.merge(df_thong_tin, on=['ID San Pham'], how=\"left\")\n",
    "df_ban_hang =  df_ban_hang.groupby([\"ID San Pham\", \"Ten\"]).agg({\"So Luong_y\": \"sum\"}).reset_index()\n",
    "df_ban_hang.rename(columns={\"So Luong_y\": \"So Luong Da Ban\"}, inplace=True)\n",
    "print(df_ban_hang)\n",
    "best_seller =  df_ban_hang.agg({\"So Luong Da Ban\": \"max\"})[\"So Luong Da Ban\"]\n",
    "print(\"========San Pham Ban Chay Nhat============\")\n",
    "print(df_ban_hang[df_ban_hang[\"So Luong Da Ban\"] == best_seller])\n"
   ]
  },
  {
   "cell_type": "code",
   "execution_count": 4,
   "metadata": {},
   "outputs": [
    {
     "name": "stdout",
     "output_type": "stream",
     "text": [
      "Tong Doanh Thu Cua Cua Hang: 23387\n"
     ]
    }
   ],
   "source": [
    "df_doanh_thu =  df_san_pham.merge(df_ban_hang, on=[\"ID San Pham\"])\n",
    "sum_revenue = 0\n",
    "\n",
    "for index, product in df_doanh_thu.iterrows():\n",
    "  sl = product[\"So Luong Da Ban\"]\n",
    "  price = product[\"Gia\"]\n",
    "  if sl is not None and price is not None:\n",
    "    sum_revenue += int(sl) * int(price)\n",
    "\n",
    "print(\"Tong Doanh Thu Cua Cua Hang: \" + str(sum_revenue))\n",
    "\n"
   ]
  },
  {
   "cell_type": "code",
   "execution_count": 5,
   "metadata": {},
   "outputs": [
    {
     "name": "stdout",
     "output_type": "stream",
     "text": [
      "    ID San Pham                        Ten_x  So Luong  Gia  \\\n",
      "0             1                  Máy hút bụi      87.0   50   \n",
      "1             2           Điện thoại di động      70.0   30   \n",
      "2             3                  Laptop Dell     139.0   25   \n",
      "3             4           Tai nghe Bluetooth      80.0   40   \n",
      "4             5                    Quạt trần      50.0   20   \n",
      "5             6                Máy tính bảng     112.0   35   \n",
      "6             7                    Tivi OLED      28.0   60   \n",
      "7             8                 Máy ảnh DSLR      21.0   75   \n",
      "8             9              Bàn là hơi nước      85.0   15   \n",
      "9            10            Máy lọc không khí      17.0   45   \n",
      "10           11               Ổ cứng SSD 1TB      25.0   80   \n",
      "11           12                       Bếp từ      62.0   55   \n",
      "12           13               Máy pha cà phê      20.0   22   \n",
      "13           14             Dàn âm thanh 5.1      28.0   70   \n",
      "14           15                  Máy sấy tóc      82.0   18   \n",
      "15           16                Loa Bluetooth      55.0   25   \n",
      "16           17              Máy làm bánh mì      30.0   40   \n",
      "17           18         Bình nước thông minh      80.0   15   \n",
      "18           19          Máy massage cầm tay      75.0   35   \n",
      "19           20        Ổ cắm điện thông minh      81.0   20   \n",
      "20           21          Máy làm kem tự đông      30.0   50   \n",
      "21           22            Dụng cụ làm sushi      41.0   18   \n",
      "22           23               Máy xay cà phê      83.0   30   \n",
      "23           24            Bếp từ hồng ngoại      17.0   65   \n",
      "24           25     Đèn trang trí thông minh      58.0   22   \n",
      "25           26           Máy phát sóng WiFi      36.0   28   \n",
      "26           27               Máy làm đá bào      18.0   42   \n",
      "27           28            Tai nghe chống ồn      30.0   55   \n",
      "28           29                 Máy sưởi dầu      55.0   28   \n",
      "29           30        Dụng cụ làm bánh ngọt      34.0   32   \n",
      "30           31              Bàn là hơi nước      -2.0   50   \n",
      "31           32               Quạt điện đứng      17.0   35   \n",
      "32           33      Ổ cắm thông minh loại 2      20.0   18   \n",
      "33           34                   Máy tạo ẩm       3.0   45   \n",
      "34           35           Tai nghe không dây      21.0   40   \n",
      "35           36              Nồi cơm điện tử      -8.0   55   \n",
      "36           37                      Loa kéo      19.0   65   \n",
      "37           38     Camera an ninh không dây      -2.0   80   \n",
      "38           39      Bàn làm việc thông minh       8.0  120   \n",
      "39           40             Đèn led trần nhà      23.0   25   \n",
      "40           41            Máy lọc không khí      15.0   70   \n",
      "41           42               Bếp hồng ngoại       9.0   60   \n",
      "42           43                  Máy sấy tóc      18.0   22   \n",
      "43           44               Máy đánh trứng      -6.0   28   \n",
      "44           45           Đèn bàn thông minh      17.0   15   \n",
      "45           46          Bình nước nóng lạnh       7.0   90   \n",
      "46           47           Điều hòa không khí     -18.0  120   \n",
      "47           48       Máy hút bụi thông minh       4.0   75   \n",
      "48           49       Máy pha cà phê tự động      12.0   85   \n",
      "49           50           Dụng cụ trang điểm       2.0   30   \n",
      "50           51   Máy đo nhiệt độ hồng ngoại      18.0   40   \n",
      "51           52              Bình phun sương      10.0   20   \n",
      "52           53              Máy làm sữa hạt      10.0   65   \n",
      "53           54            Bàn làm việc đứng       0.0   80   \n",
      "54           55            Ổ cắm điện loại 3      18.0   12   \n",
      "55           56           Tai nghe Bluetooth       5.0   28   \n",
      "56           57    Dụng cụ làm bánh bông lan      -6.0   32   \n",
      "57           58          Máy làm kem tại nhà     -16.0   50   \n",
      "58           59              Máy xay sinh tố      17.0   35   \n",
      "59           60  Bàn làm việc thông minh mới      15.0  100   \n",
      "\n",
      "                          Ten_y  So Luong Da Ban  \n",
      "0                   Máy hút bụi             13.0  \n",
      "1            Điện thoại di động              5.0  \n",
      "2                   Laptop Dell             11.0  \n",
      "3            Tai nghe Bluetooth              0.0  \n",
      "4                     Quạt trần              0.0  \n",
      "5                 Máy tính bảng              8.0  \n",
      "6                     Tivi OLED              2.0  \n",
      "7                  Máy ảnh DSLR             19.0  \n",
      "8               Bàn là hơi nước              5.0  \n",
      "9             Máy lọc không khí             43.0  \n",
      "10               Ổ cứng SSD 1TB              0.0  \n",
      "11                       Bếp từ              8.0  \n",
      "12               Máy pha cà phê             25.0  \n",
      "13             Dàn âm thanh 5.1              7.0  \n",
      "14                  Máy sấy tóc              3.0  \n",
      "15                Loa Bluetooth              5.0  \n",
      "16              Máy làm bánh mì             10.0  \n",
      "17         Bình nước thông minh             20.0  \n",
      "18          Máy massage cầm tay              0.0  \n",
      "19        Ổ cắm điện thông minh              9.0  \n",
      "20          Máy làm kem tự đông              0.0  \n",
      "21            Dụng cụ làm sushi              9.0  \n",
      "22               Máy xay cà phê              2.0  \n",
      "23            Bếp từ hồng ngoại              3.0  \n",
      "24     Đèn trang trí thông minh             12.0  \n",
      "25           Máy phát sóng WiFi             19.0  \n",
      "26               Máy làm đá bào              7.0  \n",
      "27            Tai nghe chống ồn              5.0  \n",
      "28                 Máy sưởi dầu             10.0  \n",
      "29        Dụng cụ làm bánh ngọt             11.0  \n",
      "30              Bàn là hơi nước             17.0  \n",
      "31               Quạt điện đứng              3.0  \n",
      "32      Ổ cắm thông minh loại 2              5.0  \n",
      "33                   Máy tạo ẩm              7.0  \n",
      "34           Tai nghe không dây              9.0  \n",
      "35              Nồi cơm điện tử             26.0  \n",
      "36                      Loa kéo              3.0  \n",
      "37     Camera an ninh không dây             14.0  \n",
      "38      Bàn làm việc thông minh              0.0  \n",
      "39             Đèn led trần nhà              5.0  \n",
      "40            Máy lọc không khí              0.0  \n",
      "41               Bếp hồng ngoại              1.0  \n",
      "42                  Máy sấy tóc              7.0  \n",
      "43               Máy đánh trứng             13.0  \n",
      "44           Đèn bàn thông minh             15.0  \n",
      "45          Bình nước nóng lạnh              7.0  \n",
      "46           Điều hòa không khí             23.0  \n",
      "47       Máy hút bụi thông minh              5.0  \n",
      "48       Máy pha cà phê tự động              8.0  \n",
      "49           Dụng cụ trang điểm             14.0  \n",
      "50   Máy đo nhiệt độ hồng ngoại              0.0  \n",
      "51              Bình phun sương              0.0  \n",
      "52              Máy làm sữa hạt              2.0  \n",
      "53            Bàn làm việc đứng              8.0  \n",
      "54            Ổ cắm điện loại 3              6.0  \n",
      "55           Tai nghe Bluetooth             10.0  \n",
      "56    Dụng cụ làm bánh bông lan             17.0  \n",
      "57          Máy làm kem tại nhà             22.0  \n",
      "58              Máy xay sinh tố              0.0  \n",
      "59  Bàn làm việc thông minh mới              5.0  \n"
     ]
    }
   ],
   "source": [
    "# Update lai so luong\n",
    "df_doanh_thu[\"So Luong\"] = df_doanh_thu[\"So Luong\"] - df_doanh_thu[\"So Luong Da Ban\"]\n",
    "\n",
    "print(df_doanh_thu)\n",
    "  \n"
   ]
  },
  {
   "cell_type": "code",
   "execution_count": 6,
   "metadata": {},
   "outputs": [
    {
     "name": "stdout",
     "output_type": "stream",
     "text": [
      "    ID Hoa Don  ID San Pham  So Luong\n",
      "0            1            8         5\n",
      "1            1           38        10\n",
      "2            2            6         8\n",
      "3            2           50        12\n",
      "4            3           14         7\n",
      "..         ...          ...       ...\n",
      "87          59           30         2\n",
      "88          59           31         8\n",
      "89          60           10         8\n",
      "90          60           22         9\n",
      "91          60           57         3\n",
      "\n",
      "[92 rows x 3 columns]\n"
     ]
    }
   ],
   "source": [
    "df_thong_tin = df_thong_tin.groupby([\"ID Hoa Don\", \"ID San Pham\"]).agg({\"So Luong\" : \"sum\"}).reset_index()\n",
    "print(df_thong_tin)"
   ]
  },
  {
   "cell_type": "code",
   "execution_count": 7,
   "metadata": {},
   "outputs": [
    {
     "data": {
      "image/png": "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",
      "text/plain": [
       "<Figure size 640x480 with 1 Axes>"
      ]
     },
     "metadata": {},
     "output_type": "display_data"
    }
   ],
   "source": [
    "plot = plt.bar(df_ban_hang[\"ID San Pham\"], df_ban_hang[\"So Luong Da Ban\"])\n",
    "\n",
    "plt.xlabel('ID San Pham')\n",
    "plt.ylabel('So Luong Da Ban')\n",
    "plt.title('Bang thong ke so luong mat hang da ban')\n",
    "\n",
    "plt.show()"
   ]
  },
  {
   "cell_type": "code",
   "execution_count": 8,
   "metadata": {},
   "outputs": [],
   "source": [
   with pd.ExcelWriter('output_file.xlsx') as writer:
    df_san_pham.to_excel(writer, sheet_name='San Pham', index=False)
    df_nhan_vien.to_excel(writer, sheet_name='Nhan Vien', index=False)
    df_hoa_don.to_excel(writer, sheet_name='Hoa Don', index=False)
    df_thong_tin.to_excel(writer, sheet_name='Thong Tin Hoa Don', index=False)
    df_ban_hang.to_excel(writer, sheet_name='Ban Hang', index=False)
   ]
  },
  {
   "cell_type": "code",
   "execution_count": null,
   "metadata": {},
   "outputs": [],
   "source": [
    "\n"
   ]
  }
 ],
 "metadata": {
  "kernelspec": {
   "display_name": "Python 3",
   "language": "python",
   "name": "python3"
  },
  "language_info": {
   "codemirror_mode": {
    "name": "ipython",
    "version": 3
   },
   "file_extension": ".py",
   "mimetype": "text/x-python",
   "name": "python",
   "nbconvert_exporter": "python",
   "pygments_lexer": "ipython3",
   "version": "3.11.1"
  }
 },
 "nbformat": 4,
 "nbformat_minor": 2
}
